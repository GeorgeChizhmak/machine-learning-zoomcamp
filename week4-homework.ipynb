{
 "cells": [
  {
   "cell_type": "markdown",
   "id": "dca10664",
   "metadata": {},
   "source": [
    "# Week4. Homework.\n",
    "\n",
    "## Author George Chizhmak (10.10.2023)."
   ]
  },
  {
   "cell_type": "markdown",
   "id": "0ce77c79",
   "metadata": {},
   "source": [
    "Dataset\n",
    "In this homework, we will use the Car price dataset. Download it from here [https://raw.githubusercontent.com/alexeygrigorev/mlbookcamp-code/master/chapter-02-car-price/data.csv]."
   ]
  },
  {
   "cell_type": "markdown",
   "id": "dfb9a593",
   "metadata": {},
   "source": [
    "We'll keep working with the MSRP variable, and we'll transform it to a classification task."
   ]
  },
  {
   "cell_type": "markdown",
   "id": "57a49d9c",
   "metadata": {},
   "source": [
    "## Features\n",
    "For the rest of the homework, you'll need to use only these columns:\n",
    "\n",
    "Make,\n",
    "Model,\n",
    "Year,\n",
    "Engine HP,\n",
    "Engine Cylinders,\n",
    "Transmission Type,\n",
    "Vehicle Style,\n",
    "highway MPG,\n",
    "city mpg,\n",
    "MSRP"
   ]
  },
  {
   "cell_type": "code",
   "execution_count": 1,
   "id": "ddca4438",
   "metadata": {},
   "outputs": [],
   "source": [
    "import pandas as pd\n",
    "import numpy as np"
   ]
  },
  {
   "cell_type": "code",
   "execution_count": 2,
   "id": "9018b12f",
   "metadata": {},
   "outputs": [],
   "source": [
    "data = pd.read_csv(\"./data.csv\")"
   ]
  },
  {
   "cell_type": "code",
   "execution_count": 3,
   "id": "3717c161",
   "metadata": {},
   "outputs": [
    {
     "data": {
      "text/html": [
       "<div>\n",
       "<style scoped>\n",
       "    .dataframe tbody tr th:only-of-type {\n",
       "        vertical-align: middle;\n",
       "    }\n",
       "\n",
       "    .dataframe tbody tr th {\n",
       "        vertical-align: top;\n",
       "    }\n",
       "\n",
       "    .dataframe thead th {\n",
       "        text-align: right;\n",
       "    }\n",
       "</style>\n",
       "<table border=\"1\" class=\"dataframe\">\n",
       "  <thead>\n",
       "    <tr style=\"text-align: right;\">\n",
       "      <th></th>\n",
       "      <th>Make</th>\n",
       "      <th>Model</th>\n",
       "      <th>Year</th>\n",
       "      <th>Engine Fuel Type</th>\n",
       "      <th>Engine HP</th>\n",
       "      <th>Engine Cylinders</th>\n",
       "      <th>Transmission Type</th>\n",
       "      <th>Driven_Wheels</th>\n",
       "      <th>Number of Doors</th>\n",
       "      <th>Market Category</th>\n",
       "      <th>Vehicle Size</th>\n",
       "      <th>Vehicle Style</th>\n",
       "      <th>highway MPG</th>\n",
       "      <th>city mpg</th>\n",
       "      <th>Popularity</th>\n",
       "      <th>MSRP</th>\n",
       "    </tr>\n",
       "  </thead>\n",
       "  <tbody>\n",
       "    <tr>\n",
       "      <th>0</th>\n",
       "      <td>BMW</td>\n",
       "      <td>1 Series M</td>\n",
       "      <td>2011</td>\n",
       "      <td>premium unleaded (required)</td>\n",
       "      <td>335.0</td>\n",
       "      <td>6.0</td>\n",
       "      <td>MANUAL</td>\n",
       "      <td>rear wheel drive</td>\n",
       "      <td>2.0</td>\n",
       "      <td>Factory Tuner,Luxury,High-Performance</td>\n",
       "      <td>Compact</td>\n",
       "      <td>Coupe</td>\n",
       "      <td>26</td>\n",
       "      <td>19</td>\n",
       "      <td>3916</td>\n",
       "      <td>46135</td>\n",
       "    </tr>\n",
       "    <tr>\n",
       "      <th>1</th>\n",
       "      <td>BMW</td>\n",
       "      <td>1 Series</td>\n",
       "      <td>2011</td>\n",
       "      <td>premium unleaded (required)</td>\n",
       "      <td>300.0</td>\n",
       "      <td>6.0</td>\n",
       "      <td>MANUAL</td>\n",
       "      <td>rear wheel drive</td>\n",
       "      <td>2.0</td>\n",
       "      <td>Luxury,Performance</td>\n",
       "      <td>Compact</td>\n",
       "      <td>Convertible</td>\n",
       "      <td>28</td>\n",
       "      <td>19</td>\n",
       "      <td>3916</td>\n",
       "      <td>40650</td>\n",
       "    </tr>\n",
       "    <tr>\n",
       "      <th>2</th>\n",
       "      <td>BMW</td>\n",
       "      <td>1 Series</td>\n",
       "      <td>2011</td>\n",
       "      <td>premium unleaded (required)</td>\n",
       "      <td>300.0</td>\n",
       "      <td>6.0</td>\n",
       "      <td>MANUAL</td>\n",
       "      <td>rear wheel drive</td>\n",
       "      <td>2.0</td>\n",
       "      <td>Luxury,High-Performance</td>\n",
       "      <td>Compact</td>\n",
       "      <td>Coupe</td>\n",
       "      <td>28</td>\n",
       "      <td>20</td>\n",
       "      <td>3916</td>\n",
       "      <td>36350</td>\n",
       "    </tr>\n",
       "    <tr>\n",
       "      <th>3</th>\n",
       "      <td>BMW</td>\n",
       "      <td>1 Series</td>\n",
       "      <td>2011</td>\n",
       "      <td>premium unleaded (required)</td>\n",
       "      <td>230.0</td>\n",
       "      <td>6.0</td>\n",
       "      <td>MANUAL</td>\n",
       "      <td>rear wheel drive</td>\n",
       "      <td>2.0</td>\n",
       "      <td>Luxury,Performance</td>\n",
       "      <td>Compact</td>\n",
       "      <td>Coupe</td>\n",
       "      <td>28</td>\n",
       "      <td>18</td>\n",
       "      <td>3916</td>\n",
       "      <td>29450</td>\n",
       "    </tr>\n",
       "    <tr>\n",
       "      <th>4</th>\n",
       "      <td>BMW</td>\n",
       "      <td>1 Series</td>\n",
       "      <td>2011</td>\n",
       "      <td>premium unleaded (required)</td>\n",
       "      <td>230.0</td>\n",
       "      <td>6.0</td>\n",
       "      <td>MANUAL</td>\n",
       "      <td>rear wheel drive</td>\n",
       "      <td>2.0</td>\n",
       "      <td>Luxury</td>\n",
       "      <td>Compact</td>\n",
       "      <td>Convertible</td>\n",
       "      <td>28</td>\n",
       "      <td>18</td>\n",
       "      <td>3916</td>\n",
       "      <td>34500</td>\n",
       "    </tr>\n",
       "  </tbody>\n",
       "</table>\n",
       "</div>"
      ],
      "text/plain": [
       "  Make       Model  Year             Engine Fuel Type  Engine HP  \\\n",
       "0  BMW  1 Series M  2011  premium unleaded (required)      335.0   \n",
       "1  BMW    1 Series  2011  premium unleaded (required)      300.0   \n",
       "2  BMW    1 Series  2011  premium unleaded (required)      300.0   \n",
       "3  BMW    1 Series  2011  premium unleaded (required)      230.0   \n",
       "4  BMW    1 Series  2011  premium unleaded (required)      230.0   \n",
       "\n",
       "   Engine Cylinders Transmission Type     Driven_Wheels  Number of Doors  \\\n",
       "0               6.0            MANUAL  rear wheel drive              2.0   \n",
       "1               6.0            MANUAL  rear wheel drive              2.0   \n",
       "2               6.0            MANUAL  rear wheel drive              2.0   \n",
       "3               6.0            MANUAL  rear wheel drive              2.0   \n",
       "4               6.0            MANUAL  rear wheel drive              2.0   \n",
       "\n",
       "                         Market Category Vehicle Size Vehicle Style  \\\n",
       "0  Factory Tuner,Luxury,High-Performance      Compact         Coupe   \n",
       "1                     Luxury,Performance      Compact   Convertible   \n",
       "2                Luxury,High-Performance      Compact         Coupe   \n",
       "3                     Luxury,Performance      Compact         Coupe   \n",
       "4                                 Luxury      Compact   Convertible   \n",
       "\n",
       "   highway MPG  city mpg  Popularity   MSRP  \n",
       "0           26        19        3916  46135  \n",
       "1           28        19        3916  40650  \n",
       "2           28        20        3916  36350  \n",
       "3           28        18        3916  29450  \n",
       "4           28        18        3916  34500  "
      ]
     },
     "execution_count": 3,
     "metadata": {},
     "output_type": "execute_result"
    }
   ],
   "source": [
    "data.head()"
   ]
  },
  {
   "cell_type": "code",
   "execution_count": 4,
   "id": "093ee67a",
   "metadata": {},
   "outputs": [],
   "source": [
    "data = data[['Make', 'Model', 'Year', 'Engine HP', 'Engine Cylinders', 'Transmission Type', 'Vehicle Style', 'highway MPG', 'city mpg', 'MSRP']]"
   ]
  },
  {
   "cell_type": "markdown",
   "id": "1baa72b8",
   "metadata": {},
   "source": [
    "## Data preparation\n",
    "\n",
    "Select only the features from above and transform their names using the next line:\n",
    "data.columns = data.columns.str.replace(' ', '_').str.lower()\n",
    "Fill in the missing values of the selected features with 0.\n",
    "Rename MSRP variable to price."
   ]
  },
  {
   "cell_type": "code",
   "execution_count": 5,
   "id": "11509afd",
   "metadata": {},
   "outputs": [],
   "source": [
    "data.columns = data.columns.str.replace(' ', '_').str.lower()"
   ]
  },
  {
   "cell_type": "code",
   "execution_count": 6,
   "id": "4e13bd69",
   "metadata": {},
   "outputs": [],
   "source": [
    "data.fillna(0, inplace=True)"
   ]
  },
  {
   "cell_type": "code",
   "execution_count": 7,
   "id": "fcb0a93a",
   "metadata": {},
   "outputs": [],
   "source": [
    "data.rename(columns={\"msrp\": \"price\"}, inplace=True)"
   ]
  },
  {
   "cell_type": "markdown",
   "id": "6eb1ca5f",
   "metadata": {},
   "source": [
    "## Make price binary\n",
    "\n",
    "Now we need to turn the price variable from numeric into a binary format.\n",
    "Let's create a variable above_average which is 1 if the price is above its mean value and 0 otherwise."
   ]
  },
  {
   "cell_type": "code",
   "execution_count": 8,
   "id": "b5ebae9c",
   "metadata": {},
   "outputs": [],
   "source": [
    "data_with_price = data.copy()\n",
    "\n",
    "mean_price = data['price'].mean()\n",
    "data['above_average'] = data['price'].apply(lambda x: 1 if x > mean_price else 0)\n",
    "\n",
    "del data['price']"
   ]
  },
  {
   "cell_type": "markdown",
   "id": "0e9fe56f",
   "metadata": {},
   "source": [
    "## Split the data\n",
    "\n",
    "- Split your data in train/val/test sets with 60%/20%/20% distribution.\n",
    "- Use Scikit-Learn for that (the train_test_split function) and set the seed to 1.\n",
    "- Make sure that the target value (above_average) is not in your dataframe."
   ]
  },
  {
   "cell_type": "code",
   "execution_count": 9,
   "id": "92d330c1",
   "metadata": {},
   "outputs": [],
   "source": [
    "from sklearn.model_selection import train_test_split"
   ]
  },
  {
   "cell_type": "code",
   "execution_count": 10,
   "id": "4e342c75",
   "metadata": {},
   "outputs": [],
   "source": [
    "df_train_full, df_test = train_test_split(data, test_size=0.2, random_state=1)"
   ]
  },
  {
   "cell_type": "code",
   "execution_count": 11,
   "id": "a6cd56e2",
   "metadata": {},
   "outputs": [],
   "source": [
    "df_train, df_val = train_test_split(df_train_full, test_size=0.2, random_state=1)"
   ]
  },
  {
   "cell_type": "code",
   "execution_count": 12,
   "id": "d8b165d7",
   "metadata": {},
   "outputs": [],
   "source": [
    "y_train = df_train.above_average.values\n",
    "y_val = df_val.above_average.values"
   ]
  },
  {
   "cell_type": "code",
   "execution_count": 13,
   "id": "e6c3d138",
   "metadata": {},
   "outputs": [],
   "source": [
    "del df_train['above_average']\n",
    "del df_val['above_average']"
   ]
  },
  {
   "cell_type": "markdown",
   "id": "a8496b3a",
   "metadata": {},
   "source": [
    "## Question 1: ROC AUC feature importance\n",
    "\n",
    "ROC AUC could also be used to evaluate feature importance of numerical variables.\n",
    "\n",
    "Let's do that\n",
    "\n",
    "For each numerical variable, use it as score and compute AUC with the above_average variable\n",
    "Use the training dataset for that\n",
    "If your AUC is < 0.5, invert this variable by putting \"-\" in front\n",
    "\n",
    "(e.g. -df_train['engine_hp'])\n",
    "\n",
    "AUC can go below 0.5 if the variable is negatively correlated with the target varialble. You can change the direction of the correlation by negating this variable - then negative correlation becomes positive.\n",
    "\n",
    "Which numerical variable (among the following 4) has the highest AUC?\n",
    "\n",
    "engine_hp\n",
    "engine_cylinders\n",
    "highway_mpg\n",
    "city_mpg"
   ]
  },
  {
   "cell_type": "code",
   "execution_count": 20,
   "id": "ea337548",
   "metadata": {},
   "outputs": [],
   "source": [
    "from sklearn import metrics\n",
    "from sklearn.preprocessing import LabelBinarizer\n",
    "\n",
    "numerical_variables = ['engine_hp', 'engine_cylinders', 'highway_mpg', 'city_mpg']"
   ]
  },
  {
   "cell_type": "code",
   "execution_count": 21,
   "id": "de834a97",
   "metadata": {},
   "outputs": [
    {
     "name": "stdout",
     "output_type": "stream",
     "text": [
      "The numerical variable with the highest AUC is: engine_hp\n",
      "AUC for the best variable: 0.9162324220917971\n"
     ]
    }
   ],
   "source": [
    "best_variable = None\n",
    "best_auc = 0\n",
    "\n",
    "for variable in numerical_variables:\n",
    "    # Calculate the ROC AUC\n",
    "    auc = metrics.roc_auc_score(y_train, df_train[variable])\n",
    "\n",
    "    # Check if AUC is less than 0.5 and invert the variable\n",
    "    if auc < 0.5:\n",
    "        auc = metrics.roc_auc_score(y_train, -df_train[variable])\n",
    "\n",
    "    # Update the best variable if needed\n",
    "    if auc > best_auc:\n",
    "        best_auc = auc\n",
    "        best_variable = variable\n",
    "\n",
    "print(\"The numerical variable with the highest AUC is:\", best_variable)\n",
    "print(\"AUC for the best variable:\", best_auc)"
   ]
  },
  {
   "cell_type": "markdown",
   "id": "eaac8d4c",
   "metadata": {},
   "source": [
    "## Question 2: Training the model\n",
    "\n",
    "Apply one-hot-encoding using DictVectorizer and train the logistic regression with these parameters:\n",
    "\n",
    "LogisticRegression(solver='liblinear', C=1.0, max_iter=1000)\n",
    "What's the AUC of this model on the validation dataset? (round to 3 digits)\n",
    "\n",
    "- 0.678\n",
    "- 0.779\n",
    "- 0.878\n",
    "- 0.979"
   ]
  },
  {
   "cell_type": "code",
   "execution_count": 22,
   "id": "9c38b3a5",
   "metadata": {},
   "outputs": [],
   "source": [
    "from sklearn.feature_extraction import DictVectorizer"
   ]
  },
  {
   "cell_type": "code",
   "execution_count": 23,
   "id": "9ec9b097",
   "metadata": {},
   "outputs": [],
   "source": [
    "train_dict = df_train.to_dict(orient='records')\n",
    "dv = DictVectorizer(sparse=False)\n",
    "dv.fit(train_dict)\n",
    "X_train = dv.transform(train_dict)"
   ]
  },
  {
   "cell_type": "code",
   "execution_count": 24,
   "id": "b3288d5e",
   "metadata": {},
   "outputs": [],
   "source": [
    "from sklearn.linear_model import LogisticRegression"
   ]
  },
  {
   "cell_type": "code",
   "execution_count": 25,
   "id": "a41f94a9",
   "metadata": {},
   "outputs": [
    {
     "data": {
      "text/html": [
       "<style>#sk-container-id-1 {color: black;background-color: white;}#sk-container-id-1 pre{padding: 0;}#sk-container-id-1 div.sk-toggleable {background-color: white;}#sk-container-id-1 label.sk-toggleable__label {cursor: pointer;display: block;width: 100%;margin-bottom: 0;padding: 0.3em;box-sizing: border-box;text-align: center;}#sk-container-id-1 label.sk-toggleable__label-arrow:before {content: \"▸\";float: left;margin-right: 0.25em;color: #696969;}#sk-container-id-1 label.sk-toggleable__label-arrow:hover:before {color: black;}#sk-container-id-1 div.sk-estimator:hover label.sk-toggleable__label-arrow:before {color: black;}#sk-container-id-1 div.sk-toggleable__content {max-height: 0;max-width: 0;overflow: hidden;text-align: left;background-color: #f0f8ff;}#sk-container-id-1 div.sk-toggleable__content pre {margin: 0.2em;color: black;border-radius: 0.25em;background-color: #f0f8ff;}#sk-container-id-1 input.sk-toggleable__control:checked~div.sk-toggleable__content {max-height: 200px;max-width: 100%;overflow: auto;}#sk-container-id-1 input.sk-toggleable__control:checked~label.sk-toggleable__label-arrow:before {content: \"▾\";}#sk-container-id-1 div.sk-estimator input.sk-toggleable__control:checked~label.sk-toggleable__label {background-color: #d4ebff;}#sk-container-id-1 div.sk-label input.sk-toggleable__control:checked~label.sk-toggleable__label {background-color: #d4ebff;}#sk-container-id-1 input.sk-hidden--visually {border: 0;clip: rect(1px 1px 1px 1px);clip: rect(1px, 1px, 1px, 1px);height: 1px;margin: -1px;overflow: hidden;padding: 0;position: absolute;width: 1px;}#sk-container-id-1 div.sk-estimator {font-family: monospace;background-color: #f0f8ff;border: 1px dotted black;border-radius: 0.25em;box-sizing: border-box;margin-bottom: 0.5em;}#sk-container-id-1 div.sk-estimator:hover {background-color: #d4ebff;}#sk-container-id-1 div.sk-parallel-item::after {content: \"\";width: 100%;border-bottom: 1px solid gray;flex-grow: 1;}#sk-container-id-1 div.sk-label:hover label.sk-toggleable__label {background-color: #d4ebff;}#sk-container-id-1 div.sk-serial::before {content: \"\";position: absolute;border-left: 1px solid gray;box-sizing: border-box;top: 0;bottom: 0;left: 50%;z-index: 0;}#sk-container-id-1 div.sk-serial {display: flex;flex-direction: column;align-items: center;background-color: white;padding-right: 0.2em;padding-left: 0.2em;position: relative;}#sk-container-id-1 div.sk-item {position: relative;z-index: 1;}#sk-container-id-1 div.sk-parallel {display: flex;align-items: stretch;justify-content: center;background-color: white;position: relative;}#sk-container-id-1 div.sk-item::before, #sk-container-id-1 div.sk-parallel-item::before {content: \"\";position: absolute;border-left: 1px solid gray;box-sizing: border-box;top: 0;bottom: 0;left: 50%;z-index: -1;}#sk-container-id-1 div.sk-parallel-item {display: flex;flex-direction: column;z-index: 1;position: relative;background-color: white;}#sk-container-id-1 div.sk-parallel-item:first-child::after {align-self: flex-end;width: 50%;}#sk-container-id-1 div.sk-parallel-item:last-child::after {align-self: flex-start;width: 50%;}#sk-container-id-1 div.sk-parallel-item:only-child::after {width: 0;}#sk-container-id-1 div.sk-dashed-wrapped {border: 1px dashed gray;margin: 0 0.4em 0.5em 0.4em;box-sizing: border-box;padding-bottom: 0.4em;background-color: white;}#sk-container-id-1 div.sk-label label {font-family: monospace;font-weight: bold;display: inline-block;line-height: 1.2em;}#sk-container-id-1 div.sk-label-container {text-align: center;}#sk-container-id-1 div.sk-container {/* jupyter's `normalize.less` sets `[hidden] { display: none; }` but bootstrap.min.css set `[hidden] { display: none !important; }` so we also need the `!important` here to be able to override the default hidden behavior on the sphinx rendered scikit-learn.org. See: https://github.com/scikit-learn/scikit-learn/issues/21755 */display: inline-block !important;position: relative;}#sk-container-id-1 div.sk-text-repr-fallback {display: none;}</style><div id=\"sk-container-id-1\" class=\"sk-top-container\"><div class=\"sk-text-repr-fallback\"><pre>LogisticRegression(max_iter=1000, solver=&#x27;liblinear&#x27;)</pre><b>In a Jupyter environment, please rerun this cell to show the HTML representation or trust the notebook. <br />On GitHub, the HTML representation is unable to render, please try loading this page with nbviewer.org.</b></div><div class=\"sk-container\" hidden><div class=\"sk-item\"><div class=\"sk-estimator sk-toggleable\"><input class=\"sk-toggleable__control sk-hidden--visually\" id=\"sk-estimator-id-1\" type=\"checkbox\" checked><label for=\"sk-estimator-id-1\" class=\"sk-toggleable__label sk-toggleable__label-arrow\">LogisticRegression</label><div class=\"sk-toggleable__content\"><pre>LogisticRegression(max_iter=1000, solver=&#x27;liblinear&#x27;)</pre></div></div></div></div></div>"
      ],
      "text/plain": [
       "LogisticRegression(max_iter=1000, solver='liblinear')"
      ]
     },
     "execution_count": 25,
     "metadata": {},
     "output_type": "execute_result"
    }
   ],
   "source": [
    "model = LogisticRegression(solver='liblinear', C=1.0, max_iter=1000)\n",
    "model.fit(X_train, y_train)"
   ]
  },
  {
   "cell_type": "code",
   "execution_count": 27,
   "id": "efabd5b4",
   "metadata": {},
   "outputs": [],
   "source": [
    "val_dict = df_val.to_dict(orient='records')\n",
    "X_val = dv.transform(val_dict)"
   ]
  },
  {
   "cell_type": "code",
   "execution_count": 30,
   "id": "ab454a37",
   "metadata": {},
   "outputs": [
    {
     "name": "stdout",
     "output_type": "stream",
     "text": [
      "0.918\n"
     ]
    }
   ],
   "source": [
    "print(round(metrics.roc_auc_score(y_val, model.predict(X_val)), 3))"
   ]
  },
  {
   "cell_type": "markdown",
   "id": "4f299843",
   "metadata": {},
   "source": [
    "## Question 3: Precision and Recall\n",
    "Now let's compute precision and recall for our model.\n",
    "\n",
    "Evaluate the model on all thresholds from 0.0 to 1.0 with step 0.01\n",
    "For each threshold, compute precision and recall\n",
    "Plot them\n",
    "At which threshold precision and recall curves intersect?\n",
    "\n",
    "- 0.28\n",
    "- 0.48\n",
    "- 0.68\n",
    "- 0.88"
   ]
  },
  {
   "cell_type": "code",
   "execution_count": 31,
   "id": "49b38103",
   "metadata": {},
   "outputs": [
    {
     "name": "stderr",
     "output_type": "stream",
     "text": [
      "D:\\anaconda\\lib\\site-packages\\sklearn\\metrics\\_classification.py:1344: UndefinedMetricWarning: Precision is ill-defined and being set to 0.0 due to no predicted samples. Use `zero_division` parameter to control this behavior.\n",
      "  _warn_prf(average, modifier, msg_start, len(result))\n"
     ]
    }
   ],
   "source": [
    "# Create an array of thresholds from 0.0 to 1.0 with a step of 0.01\n",
    "thresholds = np.arange(0.0, 1.01, 0.01)\n",
    "\n",
    "precision_scores = []\n",
    "recall_scores = []\n",
    "\n",
    "for threshold in thresholds:\n",
    "    # Make predictions based on the threshold\n",
    "    y_pred = (model.predict_proba(X_val)[:, 1] >= threshold).astype(int)\n",
    "    \n",
    "    # Calculate precision and recall\n",
    "    precision = metrics.precision_score(y_val, y_pred)\n",
    "    recall = metrics.recall_score(y_val, y_pred)\n",
    "    \n",
    "    precision_scores.append(precision)\n",
    "    recall_scores.append(recall)"
   ]
  },
  {
   "cell_type": "code",
   "execution_count": 33,
   "id": "ab38c401",
   "metadata": {},
   "outputs": [],
   "source": [
    "import matplotlib.pyplot as plt"
   ]
  },
  {
   "cell_type": "code",
   "execution_count": 34,
   "id": "e4a83f9b",
   "metadata": {},
   "outputs": [
    {
     "data": {
      "image/png": "[encoded data removed]",
      "text/plain": [
       "<Figure size 432x288 with 1 Axes>"
      ]
     },
     "metadata": {
      "needs_background": "light"
     },
     "output_type": "display_data"
    }
   ],
   "source": [
    "# Plot precision and recall curves\n",
    "plt.plot(thresholds, precision_scores, label='Precision')\n",
    "plt.plot(thresholds, recall_scores, label='Recall')\n",
    "plt.xlabel('Threshold')\n",
    "plt.ylabel('Score')\n",
    "plt.legend()\n",
    "plt.grid(True)\n",
    "plt.show()"
   ]
  },
  {
   "cell_type": "markdown",
   "id": "05acae9d",
   "metadata": {},
   "source": [
    "## Question 4: F1 score\n",
    "\n",
    "Precision and recall are conflicting - when one grows, the other goes down. That's why they are often combined into the F1 score - a metrics that takes into account both.\n",
    "\n",
    "\n",
    "Let's compute F1 for all thresholds from 0.0 to 1.0 with increment 0.01\n",
    "\n",
    "At which threshold F1 is maximal?\n",
    "\n",
    "- 0.12\n",
    "- 0.32\n",
    "- 0.52\n",
    "- 0.72"
   ]
  },
  {
   "cell_type": "code",
   "execution_count": 35,
   "id": "e4628341",
   "metadata": {},
   "outputs": [
    {
     "name": "stdout",
     "output_type": "stream",
     "text": [
      "The threshold at which F1 is maximal: 0.46\n"
     ]
    }
   ],
   "source": [
    "f1_scores = []\n",
    "\n",
    "for threshold in thresholds:\n",
    "    # Make predictions based on the threshold\n",
    "    y_pred = (model.predict_proba(X_val)[:, 1] >= threshold).astype(int)\n",
    "    \n",
    "    # Calculate the F1 score\n",
    "    f1 = metrics.f1_score(y_val, y_pred)\n",
    "    \n",
    "    f1_scores.append(f1)\n",
    "\n",
    "# Find the threshold where F1 is maximal\n",
    "max_f1 = max(f1_scores)\n",
    "max_f1_threshold = thresholds[f1_scores.index(max_f1)]\n",
    "\n",
    "print(\"The threshold at which F1 is maximal:\", max_f1_threshold)"
   ]
  },
  {
   "cell_type": "markdown",
   "id": "bef4bb9a",
   "metadata": {},
   "source": [
    "## Question 5: 5-Fold CV\n",
    "\n",
    "Use the KFold class from Scikit-Learn to evaluate our model on 5 different folds:\n",
    "\n",
    "KFold(n_splits=5, shuffle=True, random_state=1)\n",
    "Iterate over different folds of df_full_train\n",
    "Split the data into train and validation\n",
    "Train the model on train with these parameters: LogisticRegression(solver='liblinear', C=1.0, max_iter=1000)\n",
    "Use AUC to evaluate the model on validation\n",
    "How large is standard devidation of the scores across different folds?\n",
    "\n",
    "- 0.003\n",
    "- 0.030\n",
    "- 0.090\n",
    "- 0.140"
   ]
  },
  {
   "cell_type": "code",
   "execution_count": 37,
   "id": "d6f1b126",
   "metadata": {},
   "outputs": [],
   "source": [
    "from sklearn.model_selection import KFold"
   ]
  },
  {
   "cell_type": "code",
   "execution_count": 38,
   "id": "551b5f90",
   "metadata": {},
   "outputs": [],
   "source": [
    "kf = KFold(n_splits=5, shuffle=True, random_state=1)"
   ]
  },
  {
   "cell_type": "code",
   "execution_count": 41,
   "id": "f86d34a8",
   "metadata": {},
   "outputs": [
    {
     "name": "stdout",
     "output_type": "stream",
     "text": [
      "The standard deviation of the AUC scores across different folds is: 0.0015432304849839476\n"
     ]
    }
   ],
   "source": [
    "auc_scores = []\n",
    "\n",
    "# Iterate over different folds\n",
    "for train_idx, val_idx in kf.split(df_train_full):\n",
    "    train_data, val_data = df_train_full.iloc[train_idx], df_train_full.iloc[val_idx]\n",
    "    \n",
    "    # Split the data into train and validation\n",
    "    X_train, y_train = train_data.drop('above_average', axis=1), train_data['above_average']\n",
    "    X_val, y_val = val_data.drop('above_average', axis=1), val_data['above_average']\n",
    "    \n",
    "    val_dict = X_val.to_dict(orient='records')\n",
    "    X_val = dv.transform(val_dict)\n",
    "    \n",
    "    train_dict = X_train.to_dict(orient='records')\n",
    "    X_train = dv.transform(train_dict)\n",
    "    \n",
    "    # Train the model on the training data\n",
    "    model = LogisticRegression(solver='liblinear', C=1.0, max_iter=1000)\n",
    "    model.fit(X_train, y_train)\n",
    "    \n",
    "    # Make predictions on the validation data\n",
    "    y_pred = model.predict_proba(X_val)[:, 1]\n",
    "    \n",
    "    # Calculate the AUC score\n",
    "    auc = metrics.roc_auc_score(y_val, y_pred)\n",
    "    \n",
    "    auc_scores.append(auc)\n",
    "\n",
    "# Calculate the standard deviation of the AUC scores\n",
    "std_deviation = np.std(auc_scores)\n",
    "\n",
    "print(\"The standard deviation of the AUC scores across different folds is:\", std_deviation)"
   ]
  },
  {
   "cell_type": "markdown",
   "id": "ad7cbe7e",
   "metadata": {},
   "source": [
    "## Question 6: Hyperparemeter Tuning\n",
    "\n",
    "Now let's use 5-Fold cross-validation to find the best parameter C\n",
    "\n",
    "Iterate over the following C values: [0.01, 0.1, 0.5, 10]\n",
    "Initialize KFold with the same parameters as previously\n",
    "Use these parametes for the model: LogisticRegression(solver='liblinear', C=C, max_iter=1000)\n",
    "Compute the mean score as well as the std (round the mean and std to 3 decimal digits)\n",
    "Which C leads to the best mean score?\n",
    "\n",
    "- 0.01\n",
    "- 0.1\n",
    "- 0.5\n",
    "- 10\n",
    "\n",
    "If you have ties, select the score with the lowest std. If you still have ties, select the smallest C."
   ]
  },
  {
   "cell_type": "code",
   "execution_count": 42,
   "id": "01a57c14",
   "metadata": {},
   "outputs": [],
   "source": [
    "C_values = [0.01, 0.1, 0.5, 10]\n",
    "kf = KFold(n_splits=5, shuffle=True, random_state=1)\n",
    "results = []"
   ]
  },
  {
   "cell_type": "code",
   "execution_count": 43,
   "id": "654b2d5d",
   "metadata": {},
   "outputs": [],
   "source": [
    "for C in C_values:\n",
    "    auc_scores = []\n",
    "    \n",
    "    # Iterate over different folds\n",
    "    for train_idx, val_idx in kf.split(df_train_full):\n",
    "        train_data, val_data = df_train_full.iloc[train_idx], df_train_full.iloc[val_idx]\n",
    "\n",
    "        # Split the data into train and validation\n",
    "        X_train, y_train = train_data.drop('above_average', axis=1), train_data['above_average']\n",
    "        X_val, y_val = val_data.drop('above_average', axis=1), val_data['above_average']\n",
    "        \n",
    "        val_dict = X_val.to_dict(orient='records')\n",
    "        X_val = dv.transform(val_dict)\n",
    "\n",
    "        train_dict = X_train.to_dict(orient='records')\n",
    "        X_train = dv.transform(train_dict)\n",
    "\n",
    "        # Train the model on the training data\n",
    "        model = LogisticRegression(solver='liblinear', C=C, max_iter=1000)\n",
    "        model.fit(X_train, y_train)\n",
    "\n",
    "        # Make predictions on the validation data\n",
    "        y_pred = model.predict_proba(X_val)[:, 1]\n",
    "\n",
    "        # Calculate the AUC score\n",
    "        auc = metrics.roc_auc_score(y_val, y_pred)\n",
    "\n",
    "        auc_scores.append(auc)\n",
    "    # for folds\n",
    "    \n",
    "    # Calculate the mean and standard deviation of AUC scores for this C\n",
    "    mean_auc = np.mean(auc_scores)\n",
    "    std_auc = np.std(auc_scores)\n",
    "    \n",
    "    results.append((C, mean_auc, std_auc))\n",
    "# for C"
   ]
  },
  {
   "cell_type": "code",
   "execution_count": 44,
   "id": "c589c069",
   "metadata": {},
   "outputs": [
    {
     "name": "stdout",
     "output_type": "stream",
     "text": [
      "The C value that leads to the best mean score is: 10\n",
      "The mean score for the best C is: 0.983\n"
     ]
    }
   ],
   "source": [
    "# Sort the results by mean score, standard deviation, and C in that order\n",
    "results.sort(key=lambda x: (x[1], x[2], -x[0]))\n",
    "\n",
    "# Select the best C based on the criteria\n",
    "best_C = results[-1][0]\n",
    "best_mean_score = round(results[-1][1], 3)\n",
    "\n",
    "print(\"The C value that leads to the best mean score is:\", best_C)\n",
    "print(\"The mean score for the best C is:\", best_mean_score)"
   ]
  },
  {
   "cell_type": "code",
   "execution_count": null,
   "id": "02f7cdad",
   "metadata": {},
   "outputs": [],
   "source": []
  }
 ],
 "metadata": {
  "kernelspec": {
   "display_name": "Python 3 (ipykernel)",
   "language": "python",
   "name": "python3"
  },
  "language_info": {
   "codemirror_mode": {
    "name": "ipython",
    "version": 3
   },
   "file_extension": ".py",
   "mimetype": "text/x-python",
   "name": "python",
   "nbconvert_exporter": "python",
   "pygments_lexer": "ipython3",
   "version": "3.9.7"
  }
 },
 "nbformat": 4,
 "nbformat_minor": 5
}
